{
 "cells": [
  {
   "cell_type": "code",
   "execution_count": 1,
   "id": "7e53ee3c-9972-4026-99f0-29ec447b036a",
   "metadata": {},
   "outputs": [],
   "source": [
    "from rtree import index"
   ]
  },
  {
   "cell_type": "code",
   "execution_count": 2,
   "id": "2729184b-675a-48a1-83ba-09f85d7a5ef3",
   "metadata": {},
   "outputs": [],
   "source": [
    "idx = index.Index()"
   ]
  },
  {
   "cell_type": "code",
   "execution_count": 3,
   "id": "00bd6021-b54b-49b4-aac1-ca541eb99419",
   "metadata": {},
   "outputs": [],
   "source": [
    "left, bottom, right, top = (0.0, 0.0, 1.0, 1.0)"
   ]
  },
  {
   "cell_type": "code",
   "execution_count": 4,
   "id": "68e21bfa-52a0-4252-8b63-6eb5ecdea5b5",
   "metadata": {},
   "outputs": [],
   "source": [
    "idx.insert(0, (left, bottom, right, top))"
   ]
  },
  {
   "cell_type": "code",
   "execution_count": null,
   "id": "99e9f790-8cf3-4667-96b1-d2902d9572f3",
   "metadata": {},
   "outputs": [],
   "source": []
  }
 ],
 "metadata": {
  "kernelspec": {
   "display_name": "Python 3 (ipykernel)",
   "language": "python",
   "name": "python3"
  },
  "language_info": {
   "codemirror_mode": {
    "name": "ipython",
    "version": 3
   },
   "file_extension": ".py",
   "mimetype": "text/x-python",
   "name": "python",
   "nbconvert_exporter": "python",
   "pygments_lexer": "ipython3",
   "version": "3.10.6"
  }
 },
 "nbformat": 4,
 "nbformat_minor": 5
}
